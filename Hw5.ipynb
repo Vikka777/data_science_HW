{
 "cells": [
  {
   "cell_type": "code",
   "execution_count": 1,
   "id": "c9557ae9",
   "metadata": {},
   "outputs": [
    {
     "name": "stdout",
     "output_type": "stream",
     "text": [
      "Requirement already satisfied: pandas in ./anaconda3/lib/python3.11/site-packages (2.0.3)\n",
      "Requirement already satisfied: python-dateutil>=2.8.2 in ./anaconda3/lib/python3.11/site-packages (from pandas) (2.8.2)\n",
      "Requirement already satisfied: pytz>=2020.1 in ./anaconda3/lib/python3.11/site-packages (from pandas) (2023.3.post1)\n",
      "Requirement already satisfied: tzdata>=2022.1 in ./anaconda3/lib/python3.11/site-packages (from pandas) (2023.3)\n",
      "Requirement already satisfied: numpy>=1.21.0 in ./anaconda3/lib/python3.11/site-packages (from pandas) (1.24.3)\n",
      "Requirement already satisfied: six>=1.5 in ./anaconda3/lib/python3.11/site-packages (from python-dateutil>=2.8.2->pandas) (1.16.0)\n",
      "Requirement already satisfied: scikit-learn in ./anaconda3/lib/python3.11/site-packages (1.3.0)\n",
      "Requirement already satisfied: numpy>=1.17.3 in ./anaconda3/lib/python3.11/site-packages (from scikit-learn) (1.24.3)\n",
      "Requirement already satisfied: scipy>=1.5.0 in ./anaconda3/lib/python3.11/site-packages (from scikit-learn) (1.11.1)\n",
      "Requirement already satisfied: joblib>=1.1.1 in ./anaconda3/lib/python3.11/site-packages (from scikit-learn) (1.2.0)\n",
      "Requirement already satisfied: threadpoolctl>=2.0.0 in ./anaconda3/lib/python3.11/site-packages (from scikit-learn) (2.2.0)\n"
     ]
    }
   ],
   "source": [
    "!pip install pandas\n",
    "!pip install scikit-learn"
   ]
  },
  {
   "cell_type": "code",
   "execution_count": 2,
   "id": "0bc7517e",
   "metadata": {},
   "outputs": [],
   "source": [
    "import os\n",
    "import pandas as pd\n",
    "from sklearn.model_selection import train_test_split\n",
    "from sklearn.svm import SVC\n",
    "from sklearn.ensemble import RandomForestClassifier\n",
    "from sklearn.metrics import classification_report\n",
    "from sklearn.preprocessing import StandardScaler\n",
    "from sklearn.pipeline import make_pipeline"
   ]
  },
  {
   "cell_type": "code",
   "execution_count": 3,
   "id": "04fdb08e",
   "metadata": {},
   "outputs": [
    {
     "name": "stdout",
     "output_type": "stream",
     "text": [
      "Loading data from /Users/vika/Desktop/data/idle...\n",
      "Successfully loaded 1039 files from /Users/vika/Desktop/data/idle.\n",
      "Loading data from /Users/vika/Desktop/data/running...\n",
      "Successfully loaded 3408 files from /Users/vika/Desktop/data/running.\n",
      "Loading data from /Users/vika/Desktop/data/stairs...\n",
      "Successfully loaded 165 files from /Users/vika/Desktop/data/stairs.\n",
      "Loading data from /Users/vika/Desktop/data/walking...\n",
      "Successfully loaded 1850 files from /Users/vika/Desktop/data/walking.\n",
      "SVM Classification Report:\n",
      "              precision    recall  f1-score   support\n",
      "\n",
      "        idle       0.91      0.98      0.95       985\n",
      "     running       0.83      0.64      0.72      1020\n",
      "      stairs       0.54      0.76      0.63       998\n",
      "     walking       0.66      0.49      0.56       957\n",
      "\n",
      "    accuracy                           0.72      3960\n",
      "   macro avg       0.73      0.72      0.71      3960\n",
      "weighted avg       0.73      0.72      0.71      3960\n",
      "\n",
      "\n",
      "Random Forest Classification Report:\n",
      "              precision    recall  f1-score   support\n",
      "\n",
      "        idle       0.99      0.99      0.99       985\n",
      "     running       0.94      0.89      0.91      1020\n",
      "      stairs       0.96      1.00      0.98       998\n",
      "     walking       0.92      0.94      0.93       957\n",
      "\n",
      "    accuracy                           0.95      3960\n",
      "   macro avg       0.95      0.95      0.95      3960\n",
      "weighted avg       0.95      0.95      0.95      3960\n",
      "\n"
     ]
    }
   ],
   "source": [
    "data_path_idle = '/Users/vika/Desktop/data/idle'\n",
    "data_path_running = '/Users/vika/Desktop/data/running'\n",
    "data_path_stairs = '/Users/vika/Desktop/data/stairs'\n",
    "data_path_walking = '/Users/vika/Desktop/data/walking'\n",
    "\n",
    "def load_data(data_path, label):\n",
    "    data = []\n",
    "    print(f\"Loading data from {data_path}...\")\n",
    "    try:\n",
    "        for filename in os.listdir(data_path):\n",
    "            if filename.endswith(\".csv\"):\n",
    "                file_path = os.path.join(data_path, filename)\n",
    "                df = pd.read_csv(file_path)\n",
    "                \n",
    "#(time domain features)\n",
    "                df['mean'] = df.mean(axis=1)\n",
    "                df['std'] = df.std(axis=1)\n",
    "                df['min'] = df.min(axis=1)\n",
    "                df['max'] = df.max(axis=1)\n",
    "                \n",
    "                df['label'] = label\n",
    "                data.append(df)\n",
    "        print(f\"Successfully loaded {len(data)} files from {data_path}.\")\n",
    "        return pd.concat(data, ignore_index=True)\n",
    "    except FileNotFoundError:\n",
    "        print(f\"Error: Directory not found - {data_path}\")\n",
    "        return None\n",
    "\n",
    "# Об'єднання даних з усіх класів\n",
    "df_idle = load_data(data_path_idle, 'idle')\n",
    "df_running = load_data(data_path_running, 'running')\n",
    "df_stairs = load_data(data_path_stairs, 'stairs')\n",
    "df_walking = load_data(data_path_walking, 'walking')\n",
    "\n",
    "if all(df is not None for df in [df_idle, df_running, df_stairs, df_walking]):\n",
    "    min_samples = min(len(df_idle), len(df_running), len(df_stairs), len(df_walking))\n",
    "    df = pd.concat([df_idle.sample(min_samples), df_running.sample(min_samples), df_stairs.sample(min_samples), df_walking.sample(min_samples)], ignore_index=True)\n",
    "\n",
    "    X = df[['mean', 'std', 'min', 'max']]\n",
    "    y = df['label']\n",
    "\n",
    "    X_train, X_test, y_train, y_test = train_test_split(X, y, test_size=0.2, random_state=42)\n",
    "\n",
    "    svm_model = make_pipeline(StandardScaler(), SVC())\n",
    "    rf_model = RandomForestClassifier()\n",
    "\n",
    "    svm_model.fit(X_train, y_train)\n",
    "    rf_model.fit(X_train, y_train)\n",
    "\n",
    "    y_pred_svm = svm_model.predict(X_test)\n",
    "    y_pred_rf = rf_model.predict(X_test)\n",
    "\n",
    "    print(\"SVM Classification Report:\")\n",
    "    print(classification_report(y_test, y_pred_svm))\n",
    "\n",
    "    print(\"\\nRandom Forest Classification Report:\")\n",
    "    print(classification_report(y_test, y_pred_rf))"
   ]
  },
  {
   "cell_type": "code",
   "execution_count": null,
   "id": "a6c6abf3",
   "metadata": {},
   "outputs": [],
   "source": []
  }
 ],
 "metadata": {
  "kernelspec": {
   "display_name": "Python 3 (ipykernel)",
   "language": "python",
   "name": "python3"
  },
  "language_info": {
   "codemirror_mode": {
    "name": "ipython",
    "version": 3
   },
   "file_extension": ".py",
   "mimetype": "text/x-python",
   "name": "python",
   "nbconvert_exporter": "python",
   "pygments_lexer": "ipython3",
   "version": "3.11.5"
  }
 },
 "nbformat": 4,
 "nbformat_minor": 5
}
