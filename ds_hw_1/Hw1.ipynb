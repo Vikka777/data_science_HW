{
 "cells": [
  {
   "cell_type": "code",
   "execution_count": 2,
   "id": "238eaa26-0ede-4c40-9742-4cb883522e50",
   "metadata": {},
   "outputs": [
    {
     "name": "stdout",
     "output_type": "stream",
     "text": [
      "[ 1  2  3  4  5  6  7  8  9 10]\n"
     ]
    }
   ],
   "source": [
    "1.\n",
    "import numpy as np\n",
    "vector = np.arange(1, 11)\n",
    "print(vector)"
   ]
  },
  {
   "cell_type": "code",
   "execution_count": 5,
   "id": "10216b4f-7e87-46fc-8bc0-072625199f1e",
   "metadata": {},
   "outputs": [
    {
     "name": "stdout",
     "output_type": "stream",
     "text": [
      "[[0 0 0]\n",
      " [0 0 0]\n",
      " [0 0 0]]\n"
     ]
    }
   ],
   "source": [
    "2.\n",
    "import numpy as np\n",
    "matrix = np.zeros((3, 3), dtype=int)\n",
    "print(matrix)"
   ]
  },
  {
   "cell_type": "code",
   "execution_count": 20,
   "id": "0f5415c8-36b1-4a77-950b-fa6fe2d4f010",
   "metadata": {},
   "outputs": [
    {
     "name": "stdout",
     "output_type": "stream",
     "text": [
      "[[ 7  8  3  8  3]\n",
      " [ 5 10  3  7  4]\n",
      " [ 7  2  8  2  4]\n",
      " [10  8  4  4 10]\n",
      " [10  1  5  4  6]]\n"
     ]
    }
   ],
   "source": [
    "3.\n",
    "import numpy as np\n",
    "matrix = np.random.randint(1, 11, size=(5, 5))\n",
    "print(matrix)"
   ]
  },
  {
   "cell_type": "code",
   "execution_count": 22,
   "id": "009273ef-6672-4318-8127-2ab348f0f9ca",
   "metadata": {},
   "outputs": [
    {
     "name": "stdout",
     "output_type": "stream",
     "text": [
      "[[0.41008837 0.64542366 0.0675098  0.40911646]\n",
      " [0.25975416 0.38518052 0.55466906 0.71396515]\n",
      " [0.35030379 0.24617774 0.09047217 0.14537891]\n",
      " [0.7936356  0.81090223 0.3287067  0.20334409]]\n"
     ]
    }
   ],
   "source": [
    "4.\n",
    "import numpy as np\n",
    "matrix = np.random.rand(4, 4)\n",
    "print(matrix)"
   ]
  },
  {
   "cell_type": "code",
   "execution_count": 27,
   "id": "5a218d5f-1ada-4fe8-98ca-60ee49aa4075",
   "metadata": {},
   "outputs": [
    {
     "name": "stdout",
     "output_type": "stream",
     "text": [
      "[11 15  5  7  3]\n",
      "[-5 -3  3  3  1]\n",
      "[24 54  4 10  2]\n"
     ]
    }
   ],
   "source": [
    "5.\n",
    "import numpy as np\n",
    "a = np.random.randint(1, 10, size=(5))\n",
    "b = np.random.randint(1, 10, size=(5))\n",
    "\n",
    "sum_result = a+b\n",
    "print(sum_result)\n",
    "\n",
    "subtract_result = a-b\n",
    "print(subtract_result)\n",
    "\n",
    "multiply_result = a*b\n",
    "print(multiply_result)"
   ]
  },
  {
   "cell_type": "code",
   "execution_count": 35,
   "id": "989e1c55-8242-42fd-bee0-b43fe5767336",
   "metadata": {},
   "outputs": [
    {
     "name": "stdout",
     "output_type": "stream",
     "text": [
      "[0.00184543 0.44386579 0.02775496 0.1777126  0.03498018 0.1019292\n",
      " 0.14425035]\n"
     ]
    }
   ],
   "source": [
    "6.\n",
    "import numpy as np\n",
    "a = np.random.rand(7)\n",
    "b = np.random.rand(7)\n",
    "\n",
    "print(a*b)"
   ]
  },
  {
   "cell_type": "code",
   "execution_count": 49,
   "id": "6b2e0be7-59fe-476b-8a72-1256e42425f9",
   "metadata": {},
   "outputs": [
    {
     "name": "stdout",
     "output_type": "stream",
     "text": [
      "[[ 58  40  38]\n",
      " [134 100  84]]\n"
     ]
    }
   ],
   "source": [
    "7.\n",
    "import numpy as np\n",
    "matrix1 = np.random.randint(1, 11, size=(2, 2))\n",
    "matrix2 = np.random.randint(1, 11, size=(2, 3))\n",
    "\n",
    "result = np.dot(matrix1, matrix2)\n",
    "print(result)"
   ]
  },
  {
   "cell_type": "code",
   "execution_count": 48,
   "id": "9649f540-c074-45ca-bc5f-7df01b660d53",
   "metadata": {},
   "outputs": [
    {
     "name": "stdout",
     "output_type": "stream",
     "text": [
      "[[-1.07142857  0.35714286  0.92857143]\n",
      " [ 1.75       -0.75       -1.25      ]\n",
      " [-0.03571429  0.17857143 -0.03571429]]\n"
     ]
    }
   ],
   "source": [
    "8.\n",
    "import numpy as np\n",
    "matrix = np.random.randint(1, 10, size=(3, 3))\n",
    "inverse_matrix = np.linalg.inv(matrix)\n",
    "\n",
    "print(inverse_matrix)"
   ]
  },
  {
   "cell_type": "code",
   "execution_count": 51,
   "id": "9f458f74-d190-4c46-b90d-10b8a2257a8b",
   "metadata": {},
   "outputs": [
    {
     "name": "stdout",
     "output_type": "stream",
     "text": [
      "[[0.36948721 0.25583979 0.04241755 0.03593211]\n",
      " [0.97099134 0.21097062 0.66579606 0.93878466]\n",
      " [0.78917391 0.5005733  0.54471743 0.08196596]\n",
      " [0.44918383 0.45099745 0.88671137 0.27947837]]\n"
     ]
    }
   ],
   "source": [
    "9.\n",
    "import numpy as np\n",
    "matrix = np.random.rand(4, 4)\n",
    "transposed_matrix = matrix.T\n",
    "\n",
    "print(transposed_matrix)"
   ]
  },
  {
   "cell_type": "code",
   "execution_count": 87,
   "id": "a5881916-eaab-4208-81ba-06b1c7044bf9",
   "metadata": {},
   "outputs": [
    {
     "name": "stdout",
     "output_type": "stream",
     "text": [
      "[108 100 135]\n"
     ]
    }
   ],
   "source": [
    "10.\n",
    "import numpy as np\n",
    "matrix = np.random.randint(1, 11, size=(3, 4))\n",
    "vector = np.random.randint(1, 11, size=(4))\n",
    "\n",
    "result = np.dot(matrix, vector)\n",
    "print(result)"
   ]
  },
  {
   "cell_type": "code",
   "execution_count": 90,
   "id": "0fe531a8-124b-46b0-af9c-67fda3c6a2ca",
   "metadata": {},
   "outputs": [
    {
     "name": "stdout",
     "output_type": "stream",
     "text": [
      "[[0.02322441 0.17907922 0.1779608 ]\n",
      " [0.00753847 0.61940305 0.16529357]]\n"
     ]
    }
   ],
   "source": [
    "11.\n",
    "import numpy as np\n",
    "matrix = np.random.rand(2, 3)\n",
    "vector = np.random.rand (3)\n",
    "multiply_result = np.multiply(matrix, vector)\n",
    "print(multiply_result)"
   ]
  },
  {
   "cell_type": "code",
   "execution_count": 86,
   "id": "d0bf7415-caae-4496-aa9b-859f2ff54f31",
   "metadata": {},
   "outputs": [
    {
     "name": "stdout",
     "output_type": "stream",
     "text": [
      "[[50 40]\n",
      " [20  4]]\n"
     ]
    }
   ],
   "source": [
    "12.\n",
    "import numpy as np\n",
    "matrix1 = np.random.randint(1, 11, size=(2, 2))\n",
    "matrix2 = np.random.randint(1, 11, size=(2, 2))\n",
    "\n",
    "multiply_result = np.multiply(matrix1, matrix2)\n",
    "print(multiply_result)"
   ]
  },
  {
   "cell_type": "code",
   "execution_count": 85,
   "id": "0544f718-1c57-4a13-a8de-a8ce52c6c5a4",
   "metadata": {},
   "outputs": [
    {
     "name": "stdout",
     "output_type": "stream",
     "text": [
      "[[109 110]\n",
      " [ 56  62]]\n"
     ]
    }
   ],
   "source": [
    "13.\n",
    "import numpy as np\n",
    "matrix1 = np.random.randint(1, 11, size=(2, 2))\n",
    "matrix2 = np.random.randint(1, 11, size=(2, 2))\n",
    "\n",
    "result = np.dot(matrix1, matrix2)\n",
    "print(result)"
   ]
  },
  {
   "cell_type": "code",
   "execution_count": 66,
   "id": "fd52f74f-6824-4e5c-ad29-3b94cf089b49",
   "metadata": {},
   "outputs": [
    {
     "name": "stdout",
     "output_type": "stream",
     "text": [
      "1096\n"
     ]
    }
   ],
   "source": [
    "14.\n",
    "import numpy as np\n",
    "matrix = np.random.randint(1, 100, size=(5, 5))\n",
    "\n",
    "sum_result = np.sum(matrix)\n",
    "print(sum_result)"
   ]
  },
  {
   "cell_type": "code",
   "execution_count": 68,
   "id": "1612df79-62ba-47ca-9933-74c4ec98e5b8",
   "metadata": {},
   "outputs": [
    {
     "name": "stdout",
     "output_type": "stream",
     "text": [
      "[[ 3  1  3  5]\n",
      " [ 2 -2 -3  0]\n",
      " [ 4  1  4  9]\n",
      " [ 6  6  3  2]]\n"
     ]
    }
   ],
   "source": [
    "15.\n",
    "import numpy as np\n",
    "matrix1 = np.random.randint(1, 11, size=(4, 4))\n",
    "matrix2 = np.random.randint(1, 11, size=(4, 4))\n",
    "\n",
    "subtraction_result = matrix1 - matrix2\n",
    "print(subtraction_result)"
   ]
  },
  {
   "cell_type": "code",
   "execution_count": 70,
   "id": "d44923fc-ee9d-4881-baea-b2dd467f6b47",
   "metadata": {},
   "outputs": [
    {
     "name": "stdout",
     "output_type": "stream",
     "text": [
      "[[1.51529773]\n",
      " [0.46769135]\n",
      " [1.3630164 ]]\n"
     ]
    }
   ],
   "source": [
    "16.\n",
    "import numpy as np\n",
    "matrix = np.random.rand(3, 3)\n",
    "sums_per_row = np.sum(matrix, axis=1, keepdims=True)\n",
    "\n",
    "print(sums_per_row)"
   ]
  },
  {
   "cell_type": "code",
   "execution_count": 81,
   "id": "7c225254-d08d-448c-b27d-1f09b6aa18be",
   "metadata": {},
   "outputs": [
    {
     "name": "stdout",
     "output_type": "stream",
     "text": [
      "[[3600 4900 1296 3025]\n",
      " [6561 3721 4489 1600]\n",
      " [1225 2304 9216 2809]]\n"
     ]
    }
   ],
   "source": [
    "17.\n",
    "import numpy as np\n",
    "matrix = np.random.randint(1, 100, size=(3, 4))\n",
    "matrix_squared = np.square(matrix)\n",
    "print(matrix_squared)"
   ]
  },
  {
   "cell_type": "code",
   "execution_count": 84,
   "id": "40a00a88-d83f-40a2-90ab-7ba98c0cabc9",
   "metadata": {},
   "outputs": [
    {
     "name": "stdout",
     "output_type": "stream",
     "text": [
      "[24 26 22 24]\n",
      "[576 676 484 576]\n"
     ]
    }
   ],
   "source": [
    "18.\n",
    "import numpy as np\n",
    "vector = np.random.randint(1, 51, size=(4))\n",
    "print(vector)\n",
    "\n",
    "vector_squared = np.square(vector)\n",
    "print(vector_squared)"
   ]
  }
 ],
 "metadata": {
  "kernelspec": {
   "display_name": "Python 3 (ipykernel)",
   "language": "python",
   "name": "python3"
  },
  "language_info": {
   "codemirror_mode": {
    "name": "ipython",
    "version": 3
   },
   "file_extension": ".py",
   "mimetype": "text/x-python",
   "name": "python",
   "nbconvert_exporter": "python",
   "pygments_lexer": "ipython3",
   "version": "3.11.5"
  }
 },
 "nbformat": 4,
 "nbformat_minor": 5
}
