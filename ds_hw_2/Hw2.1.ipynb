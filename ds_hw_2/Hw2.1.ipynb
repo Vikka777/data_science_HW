{
 "cells": [
  {
   "cell_type": "code",
   "execution_count": 2,
   "id": "2ebb8264-1985-42f7-a71e-84e78784f96a",
   "metadata": {},
   "outputs": [
    {
     "name": "stdout",
     "output_type": "stream",
     "text": [
      "Requirement already satisfied: lxml in ./anaconda3/lib/python3.11/site-packages (4.9.3)\n",
      "Note: you may need to restart the kernel to use updated packages.\n"
     ]
    }
   ],
   "source": [
    "%pip install lxml"
   ]
  },
  {
   "cell_type": "code",
   "execution_count": 24,
   "id": "5829be1a-813b-419b-bda1-f6b1c575ebcf",
   "metadata": {},
   "outputs": [
    {
     "name": "stdout",
     "output_type": "stream",
     "text": [
      "               Регіон   1950   1960   1970  1990  2000  2012 2014 2019\n",
      "0                Крим  230.0  206.0  160.0   130    73   126    —    —\n",
      "1           Вінницька  224.0  192.0  142.0   124    84   112  109   76\n",
      "2           Волинська  247.0  250.0  179.0   153   112   148  141  101\n",
      "3    Дніпропетровська  204.0  204.0  151.0   123    71   112  111   71\n",
      "4            Донецька  271.0  214.0  140.0   109    61    98   82    —\n",
      "5         Житомирська  261.0  223.0  159.0   129    89   122  120   79\n",
      "6        Закарпатська  314.0  273.0  207.0   168   115   151  146  104\n",
      "7          Запорізька  219.0  197.0  150.0   124    71   106  106   68\n",
      "8   Івано-Франківська  243.0  248.0  182.0   155   103   124  122   88\n",
      "9            Київська  204.0  189.0  156.0   123    73   122  121   80\n",
      "10     Кіровоградська  216.0  171.0  145.0   126    79   110  108   68\n",
      "11          Луганська  262.0  235.0  144.0   116    62    96   51    —\n",
      "12          Львівська  234.0  240.0  171.0   140    91   119  119   87\n",
      "13       Миколаївська  211.0  194.0  155.0   137    80   115  112   71\n",
      "14            Одеська  241.0  192.0  148.0   126    80   127  123   88\n",
      "15         Полтавська  186.0  163.0  131.0   118    70    99  100   65\n",
      "16         Рівненська  269.0  267.0  193.0   158   118   159  148  107\n",
      "17            Сумська  216.0  184.0  132.0   115    70    97   92   60\n",
      "18      Тернопільська  213.0  216.0  157.0   142    92   113  109   76\n",
      "19         Харківська  197.0  173.0  140.0   114    68    99  101   68\n",
      "20         Херсонська  208.0  214.0  166.0   143    85   117  115   81\n",
      "21        Хмельницька  234.0  198.0  148.0   129    85   113  112   79\n",
      "22          Черкаська  205.0  179.0  144.0   123    75   100   98   64\n",
      "23        Чернівецька  247.0  218.0  170.0   148   101   128  129   92\n",
      "24       Чернігівська  220.0  183.0  127.0   108    69    94   90   61\n",
      "25               Київ    NaN  174.0  159.0   120    73   120  121  110\n",
      "26        Севастополь    NaN    NaN    NaN   125    70   120    —    —\n",
      "27            Україна  228.0  205.0  152.0   126    78   114  111   81\n"
     ]
    }
   ],
   "source": [
    "#Потрібна нам таблиця:)\n",
    "import pandas as pd\n",
    "url = \"https://uk.wikipedia.org/wiki/%D0%9D%D0%B0%D1%81%D0%B5%D0%BB%D0%B5%D0%BD%D0%BD%D1%8F_%D0%A3%D0%BA%D1%80%D0%B0%D1%97%D0%BD%D0%B8\"\n",
    "\n",
    "tables = pd.read_html(url)\n",
    "selected_table = tables[12]\n",
    "\n",
    "print(selected_table)"
   ]
  },
  {
   "cell_type": "code",
   "execution_count": 25,
   "id": "a8540e2c-b6a4-4058-8495-239372cfe7ce",
   "metadata": {},
   "outputs": [
    {
     "name": "stdout",
     "output_type": "stream",
     "text": [
      "             Регіон   1950   1960   1970  1990  2000  2012 2014 2019\n",
      "0              Крим  230.0  206.0  160.0   130    73   126    —    —\n",
      "1         Вінницька  224.0  192.0  142.0   124    84   112  109   76\n",
      "2         Волинська  247.0  250.0  179.0   153   112   148  141  101\n",
      "3  Дніпропетровська  204.0  204.0  151.0   123    71   112  111   71\n",
      "4          Донецька  271.0  214.0  140.0   109    61    98   82    —\n"
     ]
    }
   ],
   "source": [
    "#1.Вивести перші рядки таблиці за допомогою методу head\n",
    "import pandas as pd\n",
    "url = \"https://uk.wikipedia.org/wiki/%D0%9D%D0%B0%D1%81%D0%B5%D0%BB%D0%B5%D0%BD%D0%BD%D1%8F_%D0%A3%D0%BA%D1%80%D0%B0%D1%97%D0%BD%D0%B8\"\n",
    "tables = pd.read_html(url)\n",
    "selected_table = tables[12]\n",
    "\n",
    "print(selected_table.head())"
   ]
  },
  {
   "cell_type": "code",
   "execution_count": 31,
   "id": "b931b7be",
   "metadata": {},
   "outputs": [
    {
     "name": "stdout",
     "output_type": "stream",
     "text": [
      "(28, 9)\n"
     ]
    }
   ],
   "source": [
    "#2.Визначте кількість рядків та стовпців у датафреймі (атрибут shape)\n",
    "import pandas as pd\n",
    "tables = pd.read_html(\"https://uk.wikipedia.org/wiki/%D0%9D%D0%B0%D1%81%D0%B5%D0%BB%D0%B5%D0%BD%D0%BD%D1%8F_%D0%A3%D0%BA%D1%80%D0%B0%D1%97%D0%BD%D0%B8\", header=0)\n",
    "selected_table = tables[12]\n",
    "\n",
    "print(selected_table.shape)"
   ]
  },
  {
   "cell_type": "code",
   "execution_count": 44,
   "id": "a4092304",
   "metadata": {},
   "outputs": [
    {
     "name": "stdout",
     "output_type": "stream",
     "text": [
      "               Регіон   1950   1960   1970  1990  2000  2012 2014 2019\n",
      "0                Крим  230.0  206.0  160.0   130    73   126  NaN  NaN\n",
      "1           Вінницька  224.0  192.0  142.0   124    84   112  109   76\n",
      "2           Волинська  247.0  250.0  179.0   153   112   148  141  101\n",
      "3    Дніпропетровська  204.0  204.0  151.0   123    71   112  111   71\n",
      "4            Донецька  271.0  214.0  140.0   109    61    98   82  NaN\n",
      "5         Житомирська  261.0  223.0  159.0   129    89   122  120   79\n",
      "6        Закарпатська  314.0  273.0  207.0   168   115   151  146  104\n",
      "7          Запорізька  219.0  197.0  150.0   124    71   106  106   68\n",
      "8   Івано-Франківська  243.0  248.0  182.0   155   103   124  122   88\n",
      "9            Київська  204.0  189.0  156.0   123    73   122  121   80\n",
      "10     Кіровоградська  216.0  171.0  145.0   126    79   110  108   68\n",
      "11          Луганська  262.0  235.0  144.0   116    62    96   51  NaN\n",
      "12          Львівська  234.0  240.0  171.0   140    91   119  119   87\n",
      "13       Миколаївська  211.0  194.0  155.0   137    80   115  112   71\n",
      "14            Одеська  241.0  192.0  148.0   126    80   127  123   88\n",
      "15         Полтавська  186.0  163.0  131.0   118    70    99  100   65\n",
      "16         Рівненська  269.0  267.0  193.0   158   118   159  148  107\n",
      "17            Сумська  216.0  184.0  132.0   115    70    97   92   60\n",
      "18      Тернопільська  213.0  216.0  157.0   142    92   113  109   76\n",
      "19         Харківська  197.0  173.0  140.0   114    68    99  101   68\n",
      "20         Херсонська  208.0  214.0  166.0   143    85   117  115   81\n",
      "21        Хмельницька  234.0  198.0  148.0   129    85   113  112   79\n",
      "22          Черкаська  205.0  179.0  144.0   123    75   100   98   64\n",
      "23        Чернівецька  247.0  218.0  170.0   148   101   128  129   92\n",
      "24       Чернігівська  220.0  183.0  127.0   108    69    94   90   61\n",
      "25               Київ    NaN  174.0  159.0   120    73   120  121  110\n",
      "26        Севастополь    NaN    NaN    NaN   125    70   120  NaN  NaN\n",
      "27            Україна  228.0  205.0  152.0   126    78   114  111   81\n"
     ]
    }
   ],
   "source": [
    "#3.Замініть у таблиці значення \"—\" на значення NaN\n",
    "import pandas as pd\n",
    "url = \"https://uk.wikipedia.org/wiki/%D0%9D%D0%B0%D1%81%D0%B5%D0%BB%D0%B5%D0%BD%D0%BD%D1%8F_%D0%A3%D0%BA%D1%80%D0%B0%D1%97%D0%BD%D0%B8\"\n",
    "tables = pd.read_html(url)\n",
    "selected_table = tables[12]\n",
    "selected_table_replace = selected_table.replace('—', 'NaN')\n",
    "\n",
    "print(selected_table_replace)\n"
   ]
  },
  {
   "cell_type": "code",
   "execution_count": 49,
   "id": "cea70527",
   "metadata": {},
   "outputs": [
    {
     "name": "stdout",
     "output_type": "stream",
     "text": [
      "Регіон     object\n",
      "1950      float64\n",
      "1960      float64\n",
      "1970      float64\n",
      "1990        int64\n",
      "2000        int64\n",
      "2012        int64\n",
      "2014       object\n",
      "2019       object\n",
      "dtype: object\n"
     ]
    }
   ],
   "source": [
    "#4.Визначте типи всіх стовпців за допомогою dataframe.dtypes\n",
    "import pandas as pd\n",
    "url = \"https://uk.wikipedia.org/wiki/%D0%9D%D0%B0%D1%81%D0%B5%D0%BB%D0%B5%D0%BD%D0%BD%D1%8F_%D0%A3%D0%BA%D1%80%D0%B0%D1%97%D0%BD%D0%B8\"\n",
    "tables = pd.read_html(url)\n",
    "selected_table = tables[12]\n",
    "\n",
    "print(selected_table.dtypes)"
   ]
  },
  {
   "cell_type": "code",
   "execution_count": 56,
   "id": "a9cab00f",
   "metadata": {
    "scrolled": true
   },
   "outputs": [
    {
     "name": "stdout",
     "output_type": "stream",
     "text": [
      "Регіон    float64\n",
      "1950      float64\n",
      "1960      float64\n",
      "1970      float64\n",
      "1990        int64\n",
      "2000        int64\n",
      "2012        int64\n",
      "2014      float64\n",
      "2019      float64\n",
      "dtype: object\n"
     ]
    }
   ],
   "source": [
    "#5.Замініть типи нечислових колонок на числові. Підказка - це колонки, де знаходився символ \"—\"\n",
    "import pandas as pd\n",
    "import numpy as np\n",
    "url = \"https://uk.wikipedia.org/wiki/%D0%9D%D0%B0%D1%81%D0%B5%D0%BB%D0%B5%D0%BD%D0%BD%D1%8F_%D0%A3%D0%BA%D1%80%D0%B0%D1%97%D0%BD%D0%B8\"\n",
    "tables = pd.read_html(url)\n",
    "selected_table = tables[12]\n",
    "\n",
    "for column in selected_table.columns:\n",
    "    selected_table[column] = pd.to_numeric(selected_table[column], errors='coerce')\n",
    "\n",
    "print(selected_table.dtypes)"
   ]
  },
  {
   "cell_type": "code",
   "execution_count": 67,
   "id": "365b0535",
   "metadata": {},
   "outputs": [
    {
     "name": "stdout",
     "output_type": "stream",
     "text": [
      "Регіон    0.000000\n",
      "1950      7.142857\n",
      "1960      3.571429\n",
      "1970      3.571429\n",
      "1990      0.000000\n",
      "2000      0.000000\n",
      "2012      0.000000\n",
      "2014      0.000000\n",
      "2019      0.000000\n",
      "dtype: float64\n"
     ]
    }
   ],
   "source": [
    "#6.Порахуйте, яка частка пропусків міститься в кожній колонці (використовуйте методи isnull та sum)\n",
    "import pandas as pd\n",
    "import numpy as np\n",
    "url = \"https://uk.wikipedia.org/wiki/%D0%9D%D0%B0%D1%81%D0%B5%D0%BB%D0%B5%D0%BD%D0%BD%D1%8F_%D0%A3%D0%BA%D1%80%D0%B0%D1%97%D0%BD%D0%B8\"\n",
    "tables = pd.read_html(url)\n",
    "selected_table = tables[12]\n",
    "\n",
    "selected_table = data\n",
    "df = pd.DataFrame(data)\n",
    "\n",
    "missing_values = df.isnull()\n",
    "missing_values_sum = missing_values.sum()\n",
    "\n",
    "total_rows = len(df)\n",
    "missing_values_percentage = (missing_values_sum / total_rows) * 100\n",
    "\n",
    "print(missing_values_percentage)"
   ]
  },
  {
   "cell_type": "code",
   "execution_count": 71,
   "id": "9f57aa7b",
   "metadata": {},
   "outputs": [
    {
     "name": "stdout",
     "output_type": "stream",
     "text": [
      "               Регіон   1950   1960   1970  1990  2000  2012 2014 2019\n",
      "0                Крим  230.0  206.0  160.0   130    73   126    —    —\n",
      "1           Вінницька  224.0  192.0  142.0   124    84   112  109   76\n",
      "2           Волинська  247.0  250.0  179.0   153   112   148  141  101\n",
      "3    Дніпропетровська  204.0  204.0  151.0   123    71   112  111   71\n",
      "4            Донецька  271.0  214.0  140.0   109    61    98   82    —\n",
      "5         Житомирська  261.0  223.0  159.0   129    89   122  120   79\n",
      "6        Закарпатська  314.0  273.0  207.0   168   115   151  146  104\n",
      "7          Запорізька  219.0  197.0  150.0   124    71   106  106   68\n",
      "8   Івано-Франківська  243.0  248.0  182.0   155   103   124  122   88\n",
      "9            Київська  204.0  189.0  156.0   123    73   122  121   80\n",
      "10     Кіровоградська  216.0  171.0  145.0   126    79   110  108   68\n",
      "11          Луганська  262.0  235.0  144.0   116    62    96   51    —\n",
      "12          Львівська  234.0  240.0  171.0   140    91   119  119   87\n",
      "13       Миколаївська  211.0  194.0  155.0   137    80   115  112   71\n",
      "14            Одеська  241.0  192.0  148.0   126    80   127  123   88\n",
      "15         Полтавська  186.0  163.0  131.0   118    70    99  100   65\n",
      "16         Рівненська  269.0  267.0  193.0   158   118   159  148  107\n",
      "17            Сумська  216.0  184.0  132.0   115    70    97   92   60\n",
      "18      Тернопільська  213.0  216.0  157.0   142    92   113  109   76\n",
      "19         Харківська  197.0  173.0  140.0   114    68    99  101   68\n",
      "20         Херсонська  208.0  214.0  166.0   143    85   117  115   81\n",
      "21        Хмельницька  234.0  198.0  148.0   129    85   113  112   79\n",
      "22          Черкаська  205.0  179.0  144.0   123    75   100   98   64\n",
      "23        Чернівецька  247.0  218.0  170.0   148   101   128  129   92\n",
      "24       Чернігівська  220.0  183.0  127.0   108    69    94   90   61\n",
      "25               Київ    NaN  174.0  159.0   120    73   120  121  110\n",
      "26        Севастополь    NaN    NaN    NaN   125    70   120    —    —\n"
     ]
    }
   ],
   "source": [
    "#7.Видаліть з таблиці дані по всій країні, останній рядок таблиці\n",
    "import pandas as pd\n",
    "import numpy as np\n",
    "url = \"https://uk.wikipedia.org/wiki/%D0%9D%D0%B0%D1%81%D0%B5%D0%BB%D0%B5%D0%BD%D0%BD%D1%8F_%D0%A3%D0%BA%D1%80%D0%B0%D1%97%D0%BD%D0%B8\"\n",
    "tables = pd.read_html(url)\n",
    "selected_table = tables[12]\n",
    "\n",
    "selected_table = data\n",
    "df = pd.DataFrame(data)\n",
    "\n",
    "drop_the_raw = df.drop([27])\n",
    "print(drop_the_raw)"
   ]
  },
  {
   "cell_type": "code",
   "execution_count": 80,
   "id": "2ef217ec",
   "metadata": {},
   "outputs": [
    {
     "name": "stdout",
     "output_type": "stream",
     "text": [
      "               Регіон        1950        1960        1970  1990  2000  2012  \\\n",
      "0                Крим  230.000000  206.000000  160.000000   130    73   126   \n",
      "1           Вінницька  224.000000  192.000000  142.000000   124    84   112   \n",
      "2           Волинська  247.000000  250.000000  179.000000   153   112   148   \n",
      "3    Дніпропетровська  204.000000  204.000000  151.000000   123    71   112   \n",
      "4            Донецька  271.000000  214.000000  140.000000   109    61    98   \n",
      "5         Житомирська  261.000000  223.000000  159.000000   129    89   122   \n",
      "6        Закарпатська  314.000000  273.000000  207.000000   168   115   151   \n",
      "7          Запорізька  219.000000  197.000000  150.000000   124    71   106   \n",
      "8   Івано-Франківська  243.000000  248.000000  182.000000   155   103   124   \n",
      "9            Київська  204.000000  189.000000  156.000000   123    73   122   \n",
      "10     Кіровоградська  216.000000  171.000000  145.000000   126    79   110   \n",
      "11          Луганська  262.000000  235.000000  144.000000   116    62    96   \n",
      "12          Львівська  234.000000  240.000000  171.000000   140    91   119   \n",
      "13       Миколаївська  211.000000  194.000000  155.000000   137    80   115   \n",
      "14            Одеська  241.000000  192.000000  148.000000   126    80   127   \n",
      "15         Полтавська  186.000000  163.000000  131.000000   118    70    99   \n",
      "16         Рівненська  269.000000  267.000000  193.000000   158   118   159   \n",
      "17            Сумська  216.000000  184.000000  132.000000   115    70    97   \n",
      "18      Тернопільська  213.000000  216.000000  157.000000   142    92   113   \n",
      "19         Харківська  197.000000  173.000000  140.000000   114    68    99   \n",
      "20         Херсонська  208.000000  214.000000  166.000000   143    85   117   \n",
      "21        Хмельницька  234.000000  198.000000  148.000000   129    85   113   \n",
      "22          Черкаська  205.000000  179.000000  144.000000   123    75   100   \n",
      "23        Чернівецька  247.000000  218.000000  170.000000   148   101   128   \n",
      "24       Чернігівська  220.000000  183.000000  127.000000   108    69    94   \n",
      "25               Київ  230.923077  174.000000  159.000000   120    73   120   \n",
      "26        Севастополь  230.923077  207.481481  155.851852   125    70   120   \n",
      "27            Україна  228.000000  205.000000  152.000000   126    78   114   \n",
      "\n",
      "   2014 2019  \n",
      "0     —    —  \n",
      "1   109   76  \n",
      "2   141  101  \n",
      "3   111   71  \n",
      "4    82    —  \n",
      "5   120   79  \n",
      "6   146  104  \n",
      "7   106   68  \n",
      "8   122   88  \n",
      "9   121   80  \n",
      "10  108   68  \n",
      "11   51    —  \n",
      "12  119   87  \n",
      "13  112   71  \n",
      "14  123   88  \n",
      "15  100   65  \n",
      "16  148  107  \n",
      "17   92   60  \n",
      "18  109   76  \n",
      "19  101   68  \n",
      "20  115   81  \n",
      "21  112   79  \n",
      "22   98   64  \n",
      "23  129   92  \n",
      "24   90   61  \n",
      "25  121  110  \n",
      "26    —    —  \n",
      "27  111   81  \n"
     ]
    }
   ],
   "source": [
    "#8.Замініть відсутні дані в стовпцях середніми значеннями цих стовпців (метод fillna)\n",
    "import pandas as pd\n",
    "import numpy as np\n",
    "\n",
    "url = \"https://uk.wikipedia.org/wiki/%D0%9D%D0%B0%D1%81%D0%B5%D0%BB%D0%B5%D0%BD%D0%BD%D1%8F_%D0%A3%D0%BA%D1%80%D0%B0%D1%97%D0%BD%D0%B8\"\n",
    "tables = pd.read_html(url)\n",
    "selected_table = tables[12]\n",
    "\n",
    "selected_columns = selected_table.iloc[:, 1:4]\n",
    "selected_columns_filled = selected_columns.fillna(selected_columns.mean())\n",
    "selected_table.iloc[:, 1:4] = selected_columns_filled\n",
    "\n",
    "print(selected_table)"
   ]
  },
  {
   "cell_type": "code",
   "execution_count": 91,
   "id": "d2f0d667",
   "metadata": {},
   "outputs": [
    {
     "name": "stdout",
     "output_type": "stream",
     "text": [
      "['Волинська', 'Закарпатська', 'Івано-Франківська', 'Львівська', 'Одеська', 'Рівненська', 'Херсонська', 'Чернівецька', 'Київ', 'Україна']\n"
     ]
    }
   ],
   "source": [
    "#9.Отримайте список регіонів, де рівень народжуваності у 2019 році був вищим за середній по Україні\n",
    "import pandas as pd\n",
    "import numpy as np\n",
    "\n",
    "url = \"https://uk.wikipedia.org/wiki/%D0%9D%D0%B0%D1%81%D0%B5%D0%BB%D0%B5%D0%BD%D0%BD%D1%8F_%D0%A3%D0%BA%D1%80%D0%B0%D1%97%D0%BD%D0%B8\"\n",
    "tables = pd.read_html(url)\n",
    "selected_table = tables[12]\n",
    "\n",
    "selected_table = df\n",
    "\n",
    "df['2019'] = df['2019'].replace('—', pd.NA)\n",
    "df['2019'] = pd.to_numeric(df['2019'], errors='coerce')\n",
    "\n",
    "average_birth_rate_ukraine = df['2019'].mean()\n",
    "\n",
    "regions_above_average = df[df['2019'] > average_birth_rate_ukraine]['Регіон'].tolist()\n",
    "\n",
    "print(regions_above_average)"
   ]
  },
  {
   "cell_type": "code",
   "execution_count": 99,
   "id": "c86fe477",
   "metadata": {},
   "outputs": [
    {
     "name": "stdout",
     "output_type": "stream",
     "text": [
      "Рівненська\n"
     ]
    }
   ],
   "source": [
    "#10.У якому регіоні була найвища народжуваність у 2014 році?\n",
    "import pandas as pd\n",
    "import numpy as np\n",
    "\n",
    "url = \"https://uk.wikipedia.org/wiki/%D0%9D%D0%B0%D1%81%D0%B5%D0%BB%D0%B5%D0%BD%D0%BD%D1%8F_%D0%A3%D0%BA%D1%80%D0%B0%D1%97%D0%BD%D0%B8\"\n",
    "tables = pd.read_html(url)\n",
    "selected_table = tables[12]\n",
    "\n",
    "df = selected_table\n",
    "\n",
    "df = df.replace('—', pd.NA)\n",
    "\n",
    "numeric_columns = df.columns[1:]\n",
    "df[numeric_columns] = df[numeric_columns].apply(pd.to_numeric, errors='coerce')\n",
    "\n",
    "region_2014_max = df.loc[df['2014'].idxmax(), 'Регіон']\n",
    "\n",
    "print(region_2014_max)\n"
   ]
  },
  {
   "cell_type": "code",
   "execution_count": 103,
   "id": "e29ecea3",
   "metadata": {},
   "outputs": [
    {
     "data": {
      "image/png": "[encoded data removed]",
      "text/plain": [
       "<Figure size 1000x600 with 1 Axes>"
      ]
     },
     "metadata": {},
     "output_type": "display_data"
    }
   ],
   "source": [
    "#11.Побудуйте стовпчикову діаграму народжуваності по регіонах у 2019 році\n",
    "import pandas as pd\n",
    "import numpy as np\n",
    "import matplotlib.pyplot as plt\n",
    "\n",
    "url = \"https://uk.wikipedia.org/wiki/%D0%9D%D0%B0%D1%81%D0%B5%D0%BB%D0%B5%D0%BD%D0%BD%D1%8F_%D0%A3%D0%BA%D1%80%D0%B0%D1%97%D0%BD%D0%B8\"\n",
    "tables = pd.read_html(url)\n",
    "selected_table = tables[12]\n",
    "\n",
    "df = selected_table\n",
    "\n",
    "numeric_columns = df.columns[1:]\n",
    "df[numeric_columns] = df[numeric_columns].apply(pd.to_numeric, errors='coerce')\n",
    "\n",
    "\n",
    "data_to_diagramm = df[['Регіон', '2019']].dropna()\n",
    "\n",
    "plt.figure(figsize=(10, 6))\n",
    "plt.bar(data_to_diagramm['Регіон'], data_to_diagramm['2019'], color='purple')\n",
    "plt.xlabel('Регіон')\n",
    "plt.ylabel('Народжуваність у 2019 році')\n",
    "plt.title('Народжуваність в регіонах України у 2019 році')\n",
    "plt.xticks(rotation=90)\n",
    "plt.show()"
   ]
  },
  {
   "cell_type": "code",
   "execution_count": null,
   "id": "3f62daf8",
   "metadata": {},
   "outputs": [],
   "source": []
  }
 ],
 "metadata": {
  "kernelspec": {
   "display_name": "Python 3 (ipykernel)",
   "language": "python",
   "name": "python3"
  },
  "language_info": {
   "codemirror_mode": {
    "name": "ipython",
    "version": 3
   },
   "file_extension": ".py",
   "mimetype": "text/x-python",
   "name": "python",
   "nbconvert_exporter": "python",
   "pygments_lexer": "ipython3",
   "version": "3.11.5"
  }
 },
 "nbformat": 4,
 "nbformat_minor": 5
}
