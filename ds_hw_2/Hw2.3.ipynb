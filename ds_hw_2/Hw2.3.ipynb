{
 "cells": [
  {
   "cell_type": "code",
   "execution_count": 48,
   "id": "694ccb61",
   "metadata": {},
   "outputs": [
    {
     "name": "stdout",
     "output_type": "stream",
     "text": [
      "Requirement already satisfied: matplotlib in ./anaconda3/lib/python3.11/site-packages (3.7.2)\n",
      "Requirement already satisfied: contourpy>=1.0.1 in ./anaconda3/lib/python3.11/site-packages (from matplotlib) (1.0.5)\n",
      "Requirement already satisfied: cycler>=0.10 in ./anaconda3/lib/python3.11/site-packages (from matplotlib) (0.11.0)\n",
      "Requirement already satisfied: fonttools>=4.22.0 in ./anaconda3/lib/python3.11/site-packages (from matplotlib) (4.25.0)\n",
      "Requirement already satisfied: kiwisolver>=1.0.1 in ./anaconda3/lib/python3.11/site-packages (from matplotlib) (1.4.4)\n",
      "Requirement already satisfied: numpy>=1.20 in ./anaconda3/lib/python3.11/site-packages (from matplotlib) (1.24.3)\n",
      "Requirement already satisfied: packaging>=20.0 in ./anaconda3/lib/python3.11/site-packages (from matplotlib) (23.1)\n",
      "Requirement already satisfied: pillow>=6.2.0 in ./anaconda3/lib/python3.11/site-packages (from matplotlib) (10.0.1)\n",
      "Requirement already satisfied: pyparsing<3.1,>=2.3.1 in ./anaconda3/lib/python3.11/site-packages (from matplotlib) (3.0.9)\n",
      "Requirement already satisfied: python-dateutil>=2.7 in ./anaconda3/lib/python3.11/site-packages (from matplotlib) (2.8.2)\n",
      "Requirement already satisfied: six>=1.5 in ./anaconda3/lib/python3.11/site-packages (from python-dateutil>=2.7->matplotlib) (1.16.0)\n",
      "Note: you may need to restart the kernel to use updated packages.\n"
     ]
    }
   ],
   "source": [
    "%pip install matplotlib"
   ]
  },
  {
   "cell_type": "code",
   "execution_count": 42,
   "id": "847c710e",
   "metadata": {},
   "outputs": [
    {
     "name": "stdout",
     "output_type": "stream",
     "text": [
      "Requirement already satisfied: seaborn in ./anaconda3/lib/python3.11/site-packages (0.12.2)\n",
      "Requirement already satisfied: numpy!=1.24.0,>=1.17 in ./anaconda3/lib/python3.11/site-packages (from seaborn) (1.24.3)\n",
      "Requirement already satisfied: pandas>=0.25 in ./anaconda3/lib/python3.11/site-packages (from seaborn) (2.0.3)\n",
      "Requirement already satisfied: matplotlib!=3.6.1,>=3.1 in ./anaconda3/lib/python3.11/site-packages (from seaborn) (3.7.2)\n",
      "Requirement already satisfied: contourpy>=1.0.1 in ./anaconda3/lib/python3.11/site-packages (from matplotlib!=3.6.1,>=3.1->seaborn) (1.0.5)\n",
      "Requirement already satisfied: cycler>=0.10 in ./anaconda3/lib/python3.11/site-packages (from matplotlib!=3.6.1,>=3.1->seaborn) (0.11.0)\n",
      "Requirement already satisfied: fonttools>=4.22.0 in ./anaconda3/lib/python3.11/site-packages (from matplotlib!=3.6.1,>=3.1->seaborn) (4.25.0)\n",
      "Requirement already satisfied: kiwisolver>=1.0.1 in ./anaconda3/lib/python3.11/site-packages (from matplotlib!=3.6.1,>=3.1->seaborn) (1.4.4)\n",
      "Requirement already satisfied: packaging>=20.0 in ./anaconda3/lib/python3.11/site-packages (from matplotlib!=3.6.1,>=3.1->seaborn) (23.1)\n",
      "Requirement already satisfied: pillow>=6.2.0 in ./anaconda3/lib/python3.11/site-packages (from matplotlib!=3.6.1,>=3.1->seaborn) (10.0.1)\n",
      "Requirement already satisfied: pyparsing<3.1,>=2.3.1 in ./anaconda3/lib/python3.11/site-packages (from matplotlib!=3.6.1,>=3.1->seaborn) (3.0.9)\n",
      "Requirement already satisfied: python-dateutil>=2.7 in ./anaconda3/lib/python3.11/site-packages (from matplotlib!=3.6.1,>=3.1->seaborn) (2.8.2)\n",
      "Requirement already satisfied: pytz>=2020.1 in ./anaconda3/lib/python3.11/site-packages (from pandas>=0.25->seaborn) (2023.3.post1)\n",
      "Requirement already satisfied: tzdata>=2022.1 in ./anaconda3/lib/python3.11/site-packages (from pandas>=0.25->seaborn) (2023.3)\n",
      "Requirement already satisfied: six>=1.5 in ./anaconda3/lib/python3.11/site-packages (from python-dateutil>=2.7->matplotlib!=3.6.1,>=3.1->seaborn) (1.16.0)\n",
      "Note: you may need to restart the kernel to use updated packages.\n"
     ]
    }
   ],
   "source": [
    "%pip install seaborn"
   ]
  },
  {
   "cell_type": "code",
   "execution_count": 7,
   "id": "281c490f",
   "metadata": {},
   "outputs": [
    {
     "name": "stdout",
     "output_type": "stream",
     "text": [
      "Перші 5 рядків:\n",
      "                                                Name  \\\n",
      "0                      10-Day Green Smoothie Cleanse   \n",
      "1                                  11/22/63: A Novel   \n",
      "2            12 Rules for Life: An Antidote to Chaos   \n",
      "3                             1984 (Signet Classics)   \n",
      "4  5,000 Awesome Facts (About Everything!) (Natio...   \n",
      "\n",
      "                     Author  User Rating  Reviews  Price  Year        Genre  \n",
      "0                  JJ Smith          4.7    17350      8  2016  Non Fiction  \n",
      "1              Stephen King          4.6     2052     22  2011      Fiction  \n",
      "2        Jordan B. Peterson          4.7    18979     15  2018  Non Fiction  \n",
      "3             George Orwell          4.7    21424      6  2017      Fiction  \n",
      "4  National Geographic Kids          4.8     7665     12  2019  Non Fiction  \n",
      "\n",
      "Розмір датасета: (550, 7)\n",
      "\n",
      "Про скільки книг зберігає дані датасет?: Відповідь: 550\n"
     ]
    }
   ],
   "source": [
    "#Читання, запитання-відповідь\n",
    "import pandas as pd\n",
    "data = pd.read_csv('/Users/vika/Desktop/bestsellers with categories.csv')\n",
    "\n",
    "print(\"Перші 5 рядків:\")\n",
    "print(data.head())\n",
    "\n",
    "print(\"\\nРозмір датасета:\", data.shape)\n",
    "\n",
    "кількість_книг = data.shape[0]\n",
    "print(\"\\nПро скільки книг зберігає дані датасет?:\",'Відповідь:',кількість_книг)"
   ]
  },
  {
   "cell_type": "code",
   "execution_count": 3,
   "id": "34316bdb",
   "metadata": {},
   "outputs": [
    {
     "name": "stdout",
     "output_type": "stream",
     "text": [
      "                                                  name  \\\n",
      "0                        10-Day Green Smoothie Cleanse   \n",
      "1                                    11/22/63: A Novel   \n",
      "2              12 Rules for Life: An Antidote to Chaos   \n",
      "3                               1984 (Signet Classics)   \n",
      "4    5,000 Awesome Facts (About Everything!) (Natio...   \n",
      "..                                                 ...   \n",
      "545       Wrecking Ball (Diary of a Wimpy Kid Book 14)   \n",
      "546  You Are a Badass: How to Stop Doubting Your Gr...   \n",
      "547  You Are a Badass: How to Stop Doubting Your Gr...   \n",
      "548  You Are a Badass: How to Stop Doubting Your Gr...   \n",
      "549  You Are a Badass: How to Stop Doubting Your Gr...   \n",
      "\n",
      "                       author  user_rating  reviews  price  year        genre  \n",
      "0                    JJ Smith          4.7    17350      8  2016  Non Fiction  \n",
      "1                Stephen King          4.6     2052     22  2011      Fiction  \n",
      "2          Jordan B. Peterson          4.7    18979     15  2018  Non Fiction  \n",
      "3               George Orwell          4.7    21424      6  2017      Fiction  \n",
      "4    National Geographic Kids          4.8     7665     12  2019  Non Fiction  \n",
      "..                        ...          ...      ...    ...   ...          ...  \n",
      "545               Jeff Kinney          4.9     9413      8  2019      Fiction  \n",
      "546               Jen Sincero          4.7    14331      8  2016  Non Fiction  \n",
      "547               Jen Sincero          4.7    14331      8  2017  Non Fiction  \n",
      "548               Jen Sincero          4.7    14331      8  2018  Non Fiction  \n",
      "549               Jen Sincero          4.7    14331      8  2019  Non Fiction  \n",
      "\n",
      "[550 rows x 7 columns]\n"
     ]
    }
   ],
   "source": [
    "#Спрощення таблиці\n",
    "data_table = pd.read_csv('/Users/vika/Desktop/bestsellers with categories.csv')\n",
    "data_table.rename(columns={'Name': 'name', 'Author': 'author', 'User Rating': 'user_rating', 'Reviews': 'reviews', 'Price': 'price', 'Year': 'year', 'Genre': 'genre'}, inplace=True)\n",
    "\n",
    "print(data_table)"
   ]
  },
  {
   "cell_type": "code",
   "execution_count": 6,
   "id": "fdf48b8a",
   "metadata": {},
   "outputs": [
    {
     "data": {
      "image/png": "[encoded data removed]",
      "text/plain": [
       "<Figure size 1000x600 with 1 Axes>"
      ]
     },
     "metadata": {},
     "output_type": "display_data"
    }
   ],
   "source": [
    "#ВІЗУАЛІЗАЦІЯ ГР.1\n",
    "#Графік рейтингу книг\n",
    "import pandas as pd\n",
    "import matplotlib.pyplot as plt\n",
    "\n",
    "data_table = pd.read_csv('/Users/vika/Desktop/bestsellers with categories.csv')\n",
    "data_table.rename(columns={'Name': 'name', 'Author': 'author', 'User Rating': 'user_rating', 'Reviews': 'reviews', 'Price': 'price', 'Year': 'year', 'Genre': 'genre'}, inplace=True)\n",
    "\n",
    "plt.figure(figsize=(10, 6))\n",
    "plt.hist(data_table['user_rating'], bins=30, color='skyblue', edgecolor='black')\n",
    "plt.title('Розподіл рейтингу книг')\n",
    "plt.xlabel('Рейтинг книг')\n",
    "plt.ylabel('Кількість книг')\n",
    "plt.show()"
   ]
  },
  {
   "cell_type": "code",
   "execution_count": 11,
   "id": "3fb22f5f",
   "metadata": {},
   "outputs": [
    {
     "data": {
      "image/png": "[encoded data removed]",
      "text/plain": [
       "<Figure size 1200x600 with 1 Axes>"
      ]
     },
     "metadata": {},
     "output_type": "display_data"
    }
   ],
   "source": [
    "#ВІЗУАЛІЗАЦІЯ ГР.2\n",
    "#Графік середнього рейтингу книг за роками\n",
    "import pandas as pd\n",
    "import matplotlib.pyplot as plt\n",
    "\n",
    "data_table = pd.read_csv('/Users/vika/Desktop/bestsellers with categories.csv')\n",
    "data_table.rename(columns={'Name': 'name', 'Author': 'author', 'User Rating': 'user_rating', 'Reviews': 'reviews', 'Price': 'price', 'Year': 'year', 'Genre': 'genre'}, inplace=True)\n",
    "\n",
    "average_rating_by_year = data_table.groupby('year')['user_rating'].mean()\n",
    "\n",
    "plt.figure(figsize=(12, 6))\n",
    "average_rating_by_year.plot(kind='line', marker='o', color='skyblue', linestyle='-', linewidth=2, markersize=8)\n",
    "plt.title('Середній рейтинг книг за роками')\n",
    "plt.xlabel('Рік')\n",
    "plt.ylabel('Середній рейтинг')\n",
    "plt.grid(True)\n",
    "plt.show()"
   ]
  },
  {
   "cell_type": "code",
   "execution_count": 12,
   "id": "6fead5b2",
   "metadata": {},
   "outputs": [
    {
     "data": {
      "image/png": "[encoded data removed]",
      "text/plain": [
       "<Figure size 1000x800 with 1 Axes>"
      ]
     },
     "metadata": {},
     "output_type": "display_data"
    }
   ],
   "source": [
    "#ВІЗУАЛІЗАЦІЯ ГР.3\n",
    "#Графік взяємозв`язку рейтингу і відгуків\n",
    "import pandas as pd\n",
    "import matplotlib.pyplot as plt\n",
    "import seaborn as sns\n",
    "\n",
    "data_table = pd.read_csv('/Users/vika/Desktop/bestsellers with categories.csv')\n",
    "data_table.rename(columns={'Name': 'name', 'Author': 'author', 'User Rating': 'user_rating', 'Reviews': 'reviews', 'Price': 'price', 'Year': 'year', 'Genre': 'genre'}, inplace=True)\n",
    "\n",
    "plt.figure(figsize=(10, 8))\n",
    "sns.scatterplot(x='user_rating', y='reviews', hue='genre', data=data_table, palette='viridis', alpha=0.7)\n",
    "plt.title('Взаємозв\\'язок між рейтингом та кількістю відгуків за жанрами')\n",
    "plt.xlabel('Рейтинг користувачів')\n",
    "plt.ylabel('Кількість відгуків')\n",
    "plt.show()"
   ]
  },
  {
   "cell_type": "code",
   "execution_count": 5,
   "id": "1f626823",
   "metadata": {},
   "outputs": [
    {
     "name": "stdout",
     "output_type": "stream",
     "text": [
      "Количество пропусков в каждом столбце:\n",
      "name           0\n",
      "author         0\n",
      "user_rating    0\n",
      "reviews        0\n",
      "price          0\n",
      "year           0\n",
      "genre          0\n",
      "dtype: int64\n",
      "\n",
      "Есть ли в каких-то переменных пропуски? (Так / ні): Ні\n"
     ]
    }
   ],
   "source": [
    "#Перевірте, чи у всіх рядків вистачає даних: виведіть кількість пропусків (na) у кожному зі стовпців (використовуйте функції isna та sum)\n",
    "import pandas as pd\n",
    "data_table = pd.read_csv('/Users/vika/Desktop/bestsellers with categories.csv')\n",
    "data_table.rename(columns={'Name': 'name', 'Author': 'author', 'User Rating': 'user_rating', 'Reviews': 'reviews', 'Price': 'price', 'Year': 'year', 'Genre': 'genre'}, inplace=True)\n",
    "\n",
    "missing_values = data_table.isna().sum()\n",
    "\n",
    "print(\"Количество пропусков в каждом столбце:\")\n",
    "print(missing_values)\n",
    "\n",
    "any_missing = missing_values.any()\n",
    "\n",
    "print(\"\\nЕсть ли в каких-то переменных пропуски? (Так / ні):\", \"Так\" if any_missing else \"Ні\")"
   ]
  },
  {
   "cell_type": "code",
   "execution_count": 76,
   "id": "8c731343",
   "metadata": {},
   "outputs": [
    {
     "name": "stdout",
     "output_type": "stream",
     "text": [
      "Які є унікальні жанри?: Non Fiction, Fiction\n"
     ]
    }
   ],
   "source": [
    "#Перевірте, які є унікальні значення в колонці genre (використовуйте функцію unique)\n",
    "unique_genres = data_table['genre'].unique()\n",
    "result_string = ', '.join(unique_genres)\n",
    "\n",
    "print(\"Які є унікальні жанри?:\", result_string)"
   ]
  },
  {
   "cell_type": "code",
   "execution_count": 48,
   "id": "120c3230",
   "metadata": {},
   "outputs": [
    {
     "name": "stdout",
     "output_type": "stream",
     "text": [
      "Max Price: 50\n",
      "Min Price: 5\n",
      "Mean Price: 27.5\n",
      "Median Price: 27.5\n"
     ]
    },
    {
     "data": {
      "image/png": "[encoded data removed]",
      "text/plain": [
       "<Figure size 1200x600 with 1 Axes>"
      ]
     },
     "metadata": {},
     "output_type": "display_data"
    }
   ],
   "source": [
    "#Тепер подивіться на розподіл цін: побудуйте діаграму (використовуйте kind='hist')\n",
    "#Визначте, яка ціна у нас максимальна, мінімальна, середня, медіанна (використовуйте функції max, min, mean, median)\n",
    "import seaborn as sns\n",
    "import matplotlib.pyplot as plt\n",
    "\n",
    "# Розрахунок максимальної, мінімальної, середньої та медіанної цін\n",
    "max_price = data_table['price'].max()\n",
    "min_price = data_table['price'].min()\n",
    "mean_price = data_table['price'].mean()\n",
    "median_price = data_table['price'].median()\n",
    "\n",
    "# Виведення результатів\n",
    "print(f'Max Price: {max_price}')\n",
    "print(f'Min Price: {min_price}')\n",
    "print(f'Mean Price: {mean_price}')\n",
    "print(f'Median Price: {median_price}')\n",
    "\n",
    "# Створення гістограми з використанням seaborn\n",
    "plt.figure(figsize=(12, 6))\n",
    "sns.histplot(data_table['price'], bins=20, color='skyblue', kde=False)\n",
    "plt.axvline(max_price, color='green', linestyle='dashed', linewidth=2, label='Max Price')\n",
    "plt.axvline(min_price, color='blue', linestyle='dashed', linewidth=2, label='Min Price')\n",
    "plt.axvline(mean_price, color='purple', linestyle='dashed', linewidth=2, label='Mean Price')\n",
    "plt.axvline(median_price, color='orange', linestyle='dashed', linewidth=2, label='Median Price')\n",
    "\n",
    "plt.title('Distribution of Prices')\n",
    "plt.xlabel('Price')\n",
    "plt.ylabel('Frequency')\n",
    "plt.legend()\n",
    "plt.show()"
   ]
  },
  {
   "cell_type": "code",
   "execution_count": 49,
   "id": "3d225496",
   "metadata": {},
   "outputs": [
    {
     "name": "stdout",
     "output_type": "stream",
     "text": [
      "Максимальна ціна? Відповідь: 50\n"
     ]
    }
   ],
   "source": [
    "#Максимальна ціна\n",
    "print(\"Максимальна ціна?\",\"Відповідь:\",max_price)"
   ]
  },
  {
   "cell_type": "code",
   "execution_count": 74,
   "id": "b9c57fe7",
   "metadata": {},
   "outputs": [
    {
     "name": "stdout",
     "output_type": "stream",
     "text": [
      "Мінімальна ціна? Відповідь: 5\n"
     ]
    }
   ],
   "source": [
    "#Мінімальна ціна\n",
    "print(\"Мінімальна ціна?\",\"Відповідь:\",min_price)"
   ]
  },
  {
   "cell_type": "code",
   "execution_count": 73,
   "id": "315b4d44",
   "metadata": {},
   "outputs": [
    {
     "name": "stdout",
     "output_type": "stream",
     "text": [
      "Мінімальна ціна? Відповідь: 27.5\n"
     ]
    }
   ],
   "source": [
    "#Середня ціна\n",
    "print(\"Мінімальна ціна?\",\"Відповідь:\",mean_price)"
   ]
  },
  {
   "cell_type": "code",
   "execution_count": 33,
   "id": "a472c15b",
   "metadata": {},
   "outputs": [
    {
     "name": "stdout",
     "output_type": "stream",
     "text": [
      "Медіанна ціна? Відповідь: 27.5\n"
     ]
    }
   ],
   "source": [
    "#Медіанна ціна\n",
    "import pandas as pd\n",
    "import matplotlib.pyplot as plt\n",
    "print(\"Медіанна ціна?\",\"Відповідь:\",median_price)"
   ]
  },
  {
   "cell_type": "code",
   "execution_count": null,
   "id": "59d857ad",
   "metadata": {},
   "outputs": [],
   "source": [
    "#ПОШУК ТА СОРТУВАННЯ ДАННИХ"
   ]
  },
  {
   "cell_type": "code",
   "execution_count": 72,
   "id": "d426683d",
   "metadata": {},
   "outputs": [
    {
     "name": "stdout",
     "output_type": "stream",
     "text": [
      "Який рейтинг у датасеті Найвищий рейтинг? Відповідь: 4.9\n"
     ]
    }
   ],
   "source": [
    "#Який рейтинг у датасеті найвищий?\n",
    "data_table = pd.read_csv('/Users/vika/Desktop/bestsellers with categories.csv')\n",
    "data_table.rename(columns={'Name': 'name', 'Author': 'author', 'User Rating': 'user_rating', 'Reviews': 'reviews', 'Price': 'price', 'Year': 'year', 'Genre': 'genre'}, inplace=True)\n",
    "\n",
    "data = data_table\n",
    "max_user_rating = data['user_rating'].max()\n",
    "print(\"Який рейтинг у датасеті Найвищий рейтинг?\",\"Відповідь:\", max_user_rating)"
   ]
  },
  {
   "cell_type": "code",
   "execution_count": 42,
   "id": "1409e58e",
   "metadata": {},
   "outputs": [
    {
     "name": "stdout",
     "output_type": "stream",
     "text": [
      "Скільки книг мають такий рейтинг? Відповідь: user_rating\n",
      "4.8    127\n",
      "4.7    108\n",
      "4.6    105\n",
      "4.5     60\n",
      "4.9     52\n",
      "4.4     38\n",
      "4.3     25\n",
      "4.0     14\n",
      "4.2      8\n",
      "4.1      6\n",
      "3.9      3\n",
      "3.8      2\n",
      "3.6      1\n",
      "3.3      1\n",
      "Name: count, dtype: int64\n"
     ]
    }
   ],
   "source": [
    "#Скільки книг мають такий рейтинг?\n",
    "book_ratings_counts = data_table['user_rating'].value_counts()\n",
    "print(\"Скільки книг мають такий рейтинг?\", \"Відповідь:\", book_ratings_counts)"
   ]
  },
  {
   "cell_type": "code",
   "execution_count": 47,
   "id": "e76814b7",
   "metadata": {},
   "outputs": [
    {
     "name": "stdout",
     "output_type": "stream",
     "text": [
      "Яка книга має найбільше відгуків? Відповідь name           Where the Crawdads Sing\n",
      "author                     Delia Owens\n",
      "user_rating                        4.8\n",
      "reviews                          87841\n",
      "price                               15\n",
      "year                              2019\n",
      "genre                          Fiction\n",
      "Name: 534, dtype: object\n"
     ]
    }
   ],
   "source": [
    "#Яка книга має найбільше відгуків?\n",
    "most_reviewed_book = data_table.loc[data_table['reviews'].idxmax()]\n",
    "print(\"Яка книга має найбільше відгуків?\", \"Відповідь:\", most_reviewed_book)"
   ]
  },
  {
   "cell_type": "code",
   "execution_count": 48,
   "id": "8f6ed3b4",
   "metadata": {},
   "outputs": [
    {
     "name": "stdout",
     "output_type": "stream",
     "text": [
      "З тих книг, що потрапили до Топ-50 у 2015 році, яка книга найдорожча? Відповідь: name           Publication Manual of the American Psychologic...\n",
      "author                        American Psychological Association\n",
      "user_rating                                                  4.5\n",
      "reviews                                                     8580\n",
      "price                                                         46\n",
      "year                                                        2015\n",
      "genre                                                Non Fiction\n",
      "Name: 277, dtype: object\n"
     ]
    }
   ],
   "source": [
    "#З тих книг, що потрапили до Топ-50 у 2015 році, яка книга найдорожча?\n",
    "top_books_2015 = data_table[data_table['year'] == 2015].nlargest(50, 'user_rating')\n",
    "most_expensive_book_2015 = top_books_2015.loc[top_books_2015['price'].idxmax()]\n",
    "print(\"З тих книг, що потрапили до Топ-50 у 2015 році, яка книга найдорожча?\", \"Відповідь:\", most_expensive_book_2015)"
   ]
  },
  {
   "cell_type": "code",
   "execution_count": 55,
   "id": "bf26dddd",
   "metadata": {},
   "outputs": [
    {
     "name": "stdout",
     "output_type": "stream",
     "text": [
      "Скільки книг жанру Fiction потрапили до Топ-50 у 2010 році? Відповідь: 20\n"
     ]
    }
   ],
   "source": [
    "#Скільки книг жанру Fiction потрапили до Топ-50 у 2010 році\n",
    "top_books_2010 = data_table[(data_table['year'] == 2010) & (data_table['genre'] == 'Fiction')].nlargest(50, 'user_rating')\n",
    "top_books_2010s = len(top_books_2010)\n",
    "print(\"Скільки книг жанру Fiction потрапили до Топ-50 у 2010 році?\", \"Відповідь:\", top_books_2010s)"
   ]
  },
  {
   "cell_type": "code",
   "execution_count": 62,
   "id": "24511c74",
   "metadata": {},
   "outputs": [
    {
     "name": "stdout",
     "output_type": "stream",
     "text": [
      "Скільки книг з рейтингом 4.9 потрапило до рейтингу у 2010 та 2011 роках? Відповідь: 1\n"
     ]
    }
   ],
   "source": [
    "#Скільки книг з рейтингом 4.9 потрапило до рейтингу у 2010 та 2011 роках?\n",
    "top_books_2010_11 = data_table[(data_table['year'].isin([2010, 2011])) & (data_table['user_rating'] == 4.9)]\n",
    "top_books_2010_11s = len(top_books_2010_11)\n",
    "print(\"Скільки книг з рейтингом 4.9 потрапило до рейтингу у 2010 та 2011 роках?\",\"Відповідь:\", top_books_2010_11s)"
   ]
  },
  {
   "cell_type": "code",
   "execution_count": 71,
   "id": "367a4ff5",
   "metadata": {},
   "outputs": [
    {
     "name": "stdout",
     "output_type": "stream",
     "text": [
      "                                                  name              author  \\\n",
      "507                              To Kill a Mockingbird          Harper Lee   \n",
      "123                               Giraffes Can't Dance       Giles Andreae   \n",
      "210                      Laugh-Out-Loud Jokes for Kids         Rob Elliott   \n",
      "54   Creative Haven Creative Cats Coloring Book (Ad...     Marjorie Sarnat   \n",
      "206                         Knock-Knock Jokes for Kids         Rob Elliott   \n",
      "111                                    First 100 Words        Roger Priddy   \n",
      "478                        The Very Hungry Caterpillar          Eric Carle   \n",
      "224                                   Love You Forever       Robert Munsch   \n",
      "63                      Dear Zoo: A Lift-the-Flap Book        Rod Campbell   \n",
      "55   Creative Haven Owls Coloring Book (Adult Color...     Marjorie Sarnat   \n",
      "28                        Baby Touch and Feel: Animals                  DK   \n",
      "201  Killing Reagan: The Violent Assault That Chang...       Bill O'Reilly   \n",
      "89   Dover Creative Haven Art Nouveau Animal Design...         Marty Noble   \n",
      "376  The Four Agreements: A Practical Guide to Pers...     Don Miguel Ruiz   \n",
      "16   Adult Coloring Book: Stress Relieving Animal D...  Blue Star Coloring   \n",
      "17      Adult Coloring Book: Stress Relieving Patterns  Blue Star Coloring   \n",
      "253              Old School (Diary of a Wimpy Kid #10)         Jeff Kinney   \n",
      "\n",
      "     user_rating  reviews  price  year        genre  \n",
      "507          4.8    26234      0  2015      Fiction  \n",
      "123          4.8    14038      4  2015      Fiction  \n",
      "210          4.6     6990      4  2015  Non Fiction  \n",
      "54           4.8     4022      4  2015  Non Fiction  \n",
      "206          4.5     3673      4  2015  Non Fiction  \n",
      "111          4.7    17323      4  2015  Non Fiction  \n",
      "478          4.9    19546      5  2015      Fiction  \n",
      "224          4.8    18613      5  2015      Fiction  \n",
      "63           4.8    10922      5  2015      Fiction  \n",
      "55           4.8     3871      5  2015  Non Fiction  \n",
      "28           4.6     5360      5  2015  Non Fiction  \n",
      "201          4.6     5235      5  2015  Non Fiction  \n",
      "89           4.6     2134      5  2015  Non Fiction  \n",
      "376          4.7    23308      6  2015  Non Fiction  \n",
      "16           4.6     2925      6  2015  Non Fiction  \n",
      "17           4.4     2951      6  2015  Non Fiction  \n",
      "253          4.8     6169      7  2015      Fiction  \n"
     ]
    }
   ],
   "source": [
    "#Сортування всіх книг за зростанням ціни, які потрапили до рейтингу в 2015 році і коштують дешевше за 8 доларів\n",
    "selected_books_2015 = top_books_2015[(top_books_2015['year'] == 2015) & (top_books_2015['price'] < 8)]\n",
    "sorted_books_2015 = selected_books_2015.sort_values(by='price', ascending=True)\n",
    "print(sorted_books_2015)"
   ]
  },
  {
   "cell_type": "code",
   "execution_count": 80,
   "id": "c1a486e6",
   "metadata": {},
   "outputs": [
    {
     "name": "stdout",
     "output_type": "stream",
     "text": [
      "Яка книга остання у відсортованому списку? Відповідь:                                       name       author  user_rating  reviews  \\\n",
      "253  Old School (Diary of a Wimpy Kid #10)  Jeff Kinney          4.8     6169   \n",
      "\n",
      "     price  year    genre  \n",
      "253      7  2015  Fiction  \n"
     ]
    }
   ],
   "source": [
    "#Яка книга остання у відсортованому списку?\n",
    "last_row = sorted_books_2015.tail(1)\n",
    "print(\"Яка книга остання у відсортованому списку?\", \"Відповідь:\", last_row)"
   ]
  },
  {
   "cell_type": "code",
   "execution_count": null,
   "id": "013ced25",
   "metadata": {},
   "outputs": [],
   "source": [
    "#АГРЕГУВАННЯ ДАННИХ ТА З'ЄДНАННЯ ТАБЛИЦЬ"
   ]
  },
  {
   "cell_type": "code",
   "execution_count": 84,
   "id": "a56feefc",
   "metadata": {},
   "outputs": [
    {
     "name": "stdout",
     "output_type": "stream",
     "text": [
      "            price     \n",
      "              min  max\n",
      "genre                 \n",
      "Fiction         0   82\n",
      "Non Fiction     0  105\n"
     ]
    }
   ],
   "source": [
    "#Для початку давайте подивимося на максимальну та мінімальну ціни для кожного з жанрів (використовуйте функції\n",
    "#groupby та agg, для підрахунку мінімальних та максимальних значень використовуйте max та min).\n",
    "result = data_table.groupby('genre').agg({'price': ['min', 'max']})\n",
    "print(result)"
   ]
  },
  {
   "cell_type": "code",
   "execution_count": 88,
   "id": "78f0a8cc",
   "metadata": {},
   "outputs": [
    {
     "name": "stdout",
     "output_type": "stream",
     "text": [
      "Максимальна ціна для жанру Fiction? Відповідь: 82\n"
     ]
    }
   ],
   "source": [
    "#Максимальна ціна для жанру Fiction\n",
    "fiction_data = data_table[data_table['genre'] == 'Fiction']\n",
    "max_price_fiction = fiction_data['price'].max()\n",
    "print(\"Максимальна ціна для жанру Fiction?\", \"Відповідь:\", max_price_fiction)"
   ]
  },
  {
   "cell_type": "code",
   "execution_count": 89,
   "id": "75c9cb0a",
   "metadata": {},
   "outputs": [
    {
     "name": "stdout",
     "output_type": "stream",
     "text": [
      "Мінімальна ціна для жанру Fiction? Відповідь: 0\n"
     ]
    }
   ],
   "source": [
    "#Мінімальна ціна для жанру Fiction\n",
    "fiction_data = data_table[data_table['genre'] == 'Fiction']\n",
    "min_price_fiction = fiction_data['price'].min()\n",
    "print(\"Мінімальна ціна для жанру Fiction?\", \"Відповідь:\", min_price_fiction)"
   ]
  },
  {
   "cell_type": "code",
   "execution_count": 90,
   "id": "61d79dd3",
   "metadata": {},
   "outputs": [
    {
     "name": "stdout",
     "output_type": "stream",
     "text": [
      "Максимальна ціна для жанру Non Fiction? Відповідь: 105\n"
     ]
    }
   ],
   "source": [
    "#Максимальна ціна для жанру Non Fiction\n",
    "non_fiction_data = data_table[data_table['genre'] == 'Non Fiction']\n",
    "max_price_non_fiction = non_fiction_data['price'].max()\n",
    "print(\"Максимальна ціна для жанру Non Fiction?\", \"Відповідь:\", max_price_non_fiction)"
   ]
  },
  {
   "cell_type": "code",
   "execution_count": 92,
   "id": "32de6ac4",
   "metadata": {},
   "outputs": [
    {
     "name": "stdout",
     "output_type": "stream",
     "text": [
      "Мінімальна ціна для жанру Non Fiction? Відповідь: 0\n"
     ]
    }
   ],
   "source": [
    "#Мінімальна ціна для жанру Non Fiction\n",
    "non_fiction_data = data_table[data_table['genre'] == 'Non Fiction']\n",
    "min_price_non_fiction = non_fiction_data['price'].min()\n",
    "print(\"Мінімальна ціна для жанру Non Fiction?\", \"Відповідь:\", min_price_non_fiction)"
   ]
  },
  {
   "cell_type": "code",
   "execution_count": 97,
   "id": "342c71f8",
   "metadata": {},
   "outputs": [
    {
     "name": "stdout",
     "output_type": "stream",
     "text": [
      "                         author  book_Count\n",
      "0              Abraham Verghese           2\n",
      "1                Adam Gasiewski           1\n",
      "2                 Adam Mansbach           1\n",
      "3                     Adir Levy           1\n",
      "4    Admiral William H. McRaven           1\n",
      "..                          ...         ...\n",
      "243             Walter Isaacson           3\n",
      "244               William Davis           2\n",
      "245            William P. Young           2\n",
      "246            Wizards RPG Team           3\n",
      "247                Zhi Gang Sha           2\n",
      "\n",
      "[248 rows x 2 columns]\n"
     ]
    }
   ],
   "source": [
    "#Кількість книг для кожного з авторів\n",
    "author_book_count = df.groupby('author').agg({'name': 'count'}).reset_index()\n",
    "author_book_count.columns = ['author', 'book_Count']\n",
    "\n",
    "print(author_book_count)"
   ]
  },
  {
   "cell_type": "code",
   "execution_count": 100,
   "id": "87b8c58e",
   "metadata": {},
   "outputs": [
    {
     "name": "stdout",
     "output_type": "stream",
     "text": [
      "Якої розмірності вийшла таблиця?(рядки/стовпці) Відповідь: (248, 2)\n"
     ]
    }
   ],
   "source": [
    "#Розмір таблиці\n",
    "table_size = author_book_count.shape\n",
    "print(\"Якої розмірності вийшла таблиця?(рядки/стовпці)\", \"Відповідь:\", table_size)"
   ]
  },
  {
   "cell_type": "code",
   "execution_count": 103,
   "id": "0f2c94d8",
   "metadata": {},
   "outputs": [
    {
     "name": "stdout",
     "output_type": "stream",
     "text": [
      "Який автор має найбільше книг? Відповідь: Jeff Kinney\n"
     ]
    }
   ],
   "source": [
    "#Який автор має найбільше книг?\n",
    "max_books_author = author_book_count.loc[author_book_count['book_Count'].idxmax(), 'author']\n",
    "print(\"Який автор має найбільше книг?\", \"Відповідь:\", max_books_author)"
   ]
  },
  {
   "cell_type": "code",
   "execution_count": 105,
   "id": "f093d64e",
   "metadata": {},
   "outputs": [
    {
     "name": "stdout",
     "output_type": "stream",
     "text": [
      "Скільки книг цього автора? Відповідь: 12\n"
     ]
    }
   ],
   "source": [
    "#Скільки книг цього автора?\n",
    "books_count = author_book_count.loc[author_book_count['author'] == max_books_author, 'book_Count'].values[0]\n",
    "print(\"Скільки книг цього автора?\",\"Відповідь:\", books_count)"
   ]
  },
  {
   "cell_type": "code",
   "execution_count": 107,
   "id": "a6e054af",
   "metadata": {},
   "outputs": [
    {
     "name": "stdout",
     "output_type": "stream",
     "text": [
      "                         author  avg_rating\n",
      "0              Abraham Verghese    4.600000\n",
      "1                Adam Gasiewski    4.400000\n",
      "2                 Adam Mansbach    4.800000\n",
      "3                     Adir Levy    4.800000\n",
      "4    Admiral William H. McRaven    4.700000\n",
      "..                          ...         ...\n",
      "243             Walter Isaacson    4.566667\n",
      "244               William Davis    4.400000\n",
      "245            William P. Young    4.600000\n",
      "246            Wizards RPG Team    4.800000\n",
      "247                Zhi Gang Sha    4.600000\n",
      "\n",
      "[248 rows x 2 columns]\n"
     ]
    }
   ],
   "source": [
    "# Середній рейтинг для кожного автора\n",
    "author_avg_rating = df.groupby('author').agg({'user_rating': 'mean'}).reset_index()\n",
    "author_avg_rating.columns = ['author', 'avg_rating']\n",
    "print(author_avg_rating)"
   ]
  },
  {
   "cell_type": "code",
   "execution_count": 113,
   "id": "520e1680",
   "metadata": {},
   "outputs": [
    {
     "name": "stdout",
     "output_type": "stream",
     "text": [
      " У якого автора середній рейтинг мінімальний? Відповідь: Donna Tartt\n"
     ]
    }
   ],
   "source": [
    "#У якого автора середній рейтинг мінімальний? \n",
    "min_rate_author = author_avg_rating.loc[author_avg_rating['avg_rating'].idxmin(), 'author']\n",
    "min_rate_value = author_avg_rating['avg_rating'].min()\n",
    "print(\" У якого автора середній рейтинг мінімальний?\", \"Відповідь:\", min_rate_author)"
   ]
  },
  {
   "cell_type": "code",
   "execution_count": 114,
   "id": "08951d48",
   "metadata": {},
   "outputs": [
    {
     "name": "stdout",
     "output_type": "stream",
     "text": [
      "Який у цього автора середній рейтинг? Відповідь: 3.9\n"
     ]
    }
   ],
   "source": [
    "#Який у цього автора середній рейтинг?\n",
    "print(\"Який у цього автора середній рейтинг?\",\"Відповідь:\", min_rate_value)"
   ]
  },
  {
   "cell_type": "code",
   "execution_count": 115,
   "id": "71c0edf7",
   "metadata": {},
   "outputs": [
    {
     "name": "stdout",
     "output_type": "stream",
     "text": [
      "                         author  book_Count                      author  \\\n",
      "0              Abraham Verghese           2            Abraham Verghese   \n",
      "1                Adam Gasiewski           1              Adam Gasiewski   \n",
      "2                 Adam Mansbach           1               Adam Mansbach   \n",
      "3                     Adir Levy           1                   Adir Levy   \n",
      "4    Admiral William H. McRaven           1  Admiral William H. McRaven   \n",
      "..                          ...         ...                         ...   \n",
      "243             Walter Isaacson           3             Walter Isaacson   \n",
      "244               William Davis           2               William Davis   \n",
      "245            William P. Young           2            William P. Young   \n",
      "246            Wizards RPG Team           3            Wizards RPG Team   \n",
      "247                Zhi Gang Sha           2                Zhi Gang Sha   \n",
      "\n",
      "     avg_rating  \n",
      "0      4.600000  \n",
      "1      4.400000  \n",
      "2      4.800000  \n",
      "3      4.800000  \n",
      "4      4.700000  \n",
      "..          ...  \n",
      "243    4.566667  \n",
      "244    4.400000  \n",
      "245    4.600000  \n",
      "246    4.800000  \n",
      "247    4.600000  \n",
      "\n",
      "[248 rows x 4 columns]\n"
     ]
    }
   ],
   "source": [
    "#Датафрейм авторів з кількістю книг і середнім рейтингом\n",
    "merged_table = pd.concat([author_book_count, author_avg_rating], axis=1)\n",
    "print(merged_table)"
   ]
  },
  {
   "cell_type": "code",
   "execution_count": 116,
   "id": "ba5e74d0",
   "metadata": {},
   "outputs": [
    {
     "name": "stdout",
     "output_type": "stream",
     "text": [
      "                 author  book_Count              author  avg_rating\n",
      "71          Donna Tartt           2         Donna Tartt         3.9\n",
      "100       Gillian Flynn           3       Gillian Flynn         4.0\n",
      "171      Muriel Barbery           1      Muriel Barbery         4.0\n",
      "90               Gallup           9              Gallup         4.0\n",
      "109   Ian K. Smith M.D.           1   Ian K. Smith M.D.         4.1\n",
      "..                  ...         ...                 ...         ...\n",
      "146  Lin-Manuel Miranda           1  Lin-Manuel Miranda         4.9\n",
      "178      Patrick Thorpe           1      Patrick Thorpe         4.9\n",
      "173      Nathan W. Pyle           1      Nathan W. Pyle         4.9\n",
      "26      Bill Martin Jr.           2     Bill Martin Jr.         4.9\n",
      "123          Jill Twiss           1          Jill Twiss         4.9\n",
      "\n",
      "[248 rows x 4 columns]\n"
     ]
    }
   ],
   "source": [
    "#Відсортуйте датафрейм за зростаючою кількістю книг та зростаючим рейтингом (використовуйте функцію sort_values)\n",
    "sorted_mt = merged_table.sort_values(by='avg_rating')\n",
    "print(sorted_mt)"
   ]
  },
  {
   "cell_type": "code",
   "execution_count": 120,
   "id": "d444370a",
   "metadata": {},
   "outputs": [
    {
     "name": "stdout",
     "output_type": "stream",
     "text": [
      "Який автор перший у списку? Відповідь author        Donna Tartt\n",
      "book_Count              2\n",
      "author        Donna Tartt\n",
      "avg_rating            3.9\n",
      "Name: 71, dtype: object\n"
     ]
    }
   ],
   "source": [
    "#Який автор перший у списку?\n",
    "first_author = sorted_mt.iloc[0]\n",
    "\n",
    "print(\"Який автор перший у списку?\", \"Відповідь\",  first_author)"
   ]
  },
  {
   "cell_type": "code",
   "execution_count": null,
   "id": "df15b3c2",
   "metadata": {},
   "outputs": [],
   "source": []
  },
  {
   "cell_type": "code",
   "execution_count": null,
   "id": "7a5409b1",
   "metadata": {},
   "outputs": [],
   "source": []
  }
 ],
 "metadata": {
  "kernelspec": {
   "display_name": "Python 3 (ipykernel)",
   "language": "python",
   "name": "python3"
  },
  "language_info": {
   "codemirror_mode": {
    "name": "ipython",
    "version": 3
   },
   "file_extension": ".py",
   "mimetype": "text/x-python",
   "name": "python",
   "nbconvert_exporter": "python",
   "pygments_lexer": "ipython3",
   "version": "3.11.5"
  }
 },
 "nbformat": 4,
 "nbformat_minor": 5
}
