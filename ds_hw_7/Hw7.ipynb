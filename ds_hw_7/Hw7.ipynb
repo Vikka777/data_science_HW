{
 "cells": [
  {
   "cell_type": "code",
   "execution_count": 7,
   "id": "80fe9982",
   "metadata": {},
   "outputs": [
    {
     "name": "stdout",
     "output_type": "stream",
     "text": [
      "Requirement already satisfied: scikit-surprise in ./anaconda3/lib/python3.11/site-packages (1.1.3)\r\n",
      "Requirement already satisfied: joblib>=1.0.0 in ./anaconda3/lib/python3.11/site-packages (from scikit-surprise) (1.2.0)\r\n",
      "Requirement already satisfied: numpy>=1.17.3 in ./anaconda3/lib/python3.11/site-packages (from scikit-surprise) (1.24.3)\r\n",
      "Requirement already satisfied: scipy>=1.3.2 in ./anaconda3/lib/python3.11/site-packages (from scikit-surprise) (1.11.1)\r\n"
     ]
    }
   ],
   "source": [
    "!pip install scikit-surprise"
   ]
  },
  {
   "cell_type": "code",
   "execution_count": 2,
   "id": "4969f218",
   "metadata": {},
   "outputs": [],
   "source": [
    "from surprise import Dataset, SVD, SVDpp, NMF\n",
    "from surprise.model_selection import cross_validate"
   ]
  },
  {
   "cell_type": "code",
   "execution_count": 3,
   "id": "4b23b60a",
   "metadata": {},
   "outputs": [],
   "source": [
    "data = Dataset.load_builtin('ml-100k')"
   ]
  },
  {
   "cell_type": "code",
   "execution_count": 4,
   "id": "e0da2351",
   "metadata": {},
   "outputs": [],
   "source": [
    "algo_svd = SVD()\n",
    "algo_svdpp = SVDpp()\n",
    "algo_nmf = NMF()"
   ]
  },
  {
   "cell_type": "code",
   "execution_count": 5,
   "id": "e2d27ea4",
   "metadata": {},
   "outputs": [
    {
     "name": "stdout",
     "output_type": "stream",
     "text": [
      "Evaluating RMSE, MAE of algorithm SVD on 5 split(s).\n",
      "\n",
      "                  Fold 1  Fold 2  Fold 3  Fold 4  Fold 5  Mean    Std     \n",
      "RMSE (testset)    0.9379  0.9370  0.9343  0.9384  0.9383  0.9372  0.0015  \n",
      "MAE (testset)     0.7406  0.7361  0.7369  0.7353  0.7417  0.7381  0.0026  \n",
      "Fit time          0.35    0.37    0.35    0.35    0.35    0.35    0.01    \n",
      "Test time         0.05    0.08    0.08    0.08    0.05    0.07    0.01    \n",
      "Evaluating RMSE, MAE of algorithm SVDpp on 5 split(s).\n",
      "\n",
      "                  Fold 1  Fold 2  Fold 3  Fold 4  Fold 5  Mean    Std     \n",
      "RMSE (testset)    0.9213  0.9249  0.9124  0.9205  0.9210  0.9200  0.0041  \n",
      "MAE (testset)     0.7216  0.7248  0.7170  0.7233  0.7221  0.7218  0.0026  \n",
      "Fit time          6.33    6.34    6.33    6.34    6.34    6.34    0.01    \n",
      "Test time         1.72    1.76    1.72    1.75    1.75    1.74    0.02    \n",
      "Evaluating RMSE, MAE of algorithm NMF on 5 split(s).\n",
      "\n",
      "                  Fold 1  Fold 2  Fold 3  Fold 4  Fold 5  Mean    Std     \n",
      "RMSE (testset)    0.9556  0.9695  0.9593  0.9657  0.9717  0.9644  0.0061  \n",
      "MAE (testset)     0.7507  0.7603  0.7557  0.7589  0.7619  0.7575  0.0040  \n",
      "Fit time          0.53    0.55    0.54    0.54    0.53    0.54    0.01    \n",
      "Test time         0.08    0.05    0.08    0.05    0.04    0.06    0.02    \n",
      "Середнє значення RMSE для моделі SVD: 0.9371832943654901\n",
      "Середнє значення RMSE для моделі SVD++: 0.9200323375078827\n",
      "Середнє значення RMSE для моделі NMF: 0.964366115041804\n",
      "Середнє значення MAE для моделі SVD: 0.7381120053388254\n",
      "Середнє значення MAE для моделі SVD++: 0.7217559484679701\n",
      "Середнє значення MAE для моделі NMF: 0.7575056345518055\n"
     ]
    }
   ],
   "source": [
    "svd_results = cross_validate(algo_svd, data, measures=['RMSE', 'MAE'], cv=5, verbose=True)\n",
    "svdpp_results = cross_validate(algo_svdpp, data, measures=['RMSE', 'MAE'], cv=5, verbose=True)\n",
    "nmf_results = cross_validate(algo_nmf, data, measures=['RMSE', 'MAE'], cv=5, verbose=True)\n",
    "\n",
    "print(\"Середнє значення RMSE для моделі SVD:\", svd_results['test_rmse'].mean())\n",
    "print(\"Середнє значення RMSE для моделі SVD++:\", svdpp_results['test_rmse'].mean())\n",
    "print(\"Середнє значення RMSE для моделі NMF:\", nmf_results['test_rmse'].mean())\n",
    "\n",
    "print(\"Середнє значення MAE для моделі SVD:\", svd_results['test_mae'].mean())\n",
    "print(\"Середнє значення MAE для моделі SVD++:\", svdpp_results['test_mae'].mean())\n",
    "print(\"Середнє значення MAE для моделі NMF:\", nmf_results['test_mae'].mean())"
   ]
  },
  {
   "cell_type": "code",
   "execution_count": 6,
   "id": "7e61d29b",
   "metadata": {},
   "outputs": [
    {
     "name": "stdout",
     "output_type": "stream",
     "text": [
      "Самый оптимальный алгоритм: SVD++\n"
     ]
    }
   ],
   "source": [
    "optimal_algorithm = min([\n",
    "    (\"SVD\", svd_results['test_rmse'].mean()),\n",
    "    (\"SVD++\", svdpp_results['test_rmse'].mean()),\n",
    "    (\"NMF\", nmf_results['test_rmse'].mean())\n",
    "], key=lambda x: x[1])\n",
    "\n",
    "print(\"Найоптимальніший варіант:\", optimal_algorithm[0])"
   ]
  }
 ],
 "metadata": {
  "kernelspec": {
   "display_name": "Python 3 (ipykernel)",
   "language": "python",
   "name": "python3"
  },
  "language_info": {
   "codemirror_mode": {
    "name": "ipython",
    "version": 3
   },
   "file_extension": ".py",
   "mimetype": "text/x-python",
   "name": "python",
   "nbconvert_exporter": "python",
   "pygments_lexer": "ipython3",
   "version": "3.11.5"
  }
 },
 "nbformat": 4,
 "nbformat_minor": 5
}
